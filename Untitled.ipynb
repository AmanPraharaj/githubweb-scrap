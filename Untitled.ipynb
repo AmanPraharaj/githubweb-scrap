{
 "cells": [
  {
   "cell_type": "markdown",
   "id": "10ecb36e",
   "metadata": {},
   "source": [
    "# TOPIC - Top repositories for github trending topics"
   ]
  },
  {
   "cell_type": "markdown",
   "id": "7b4239ec",
   "metadata": {},
   "source": [
    "## PROJECT OUTLINE\n"
   ]
  },
  {
   "cell_type": "markdown",
   "id": "dae41400",
   "metadata": {},
   "source": [
    "##### We're going to scrape https://github.com/topics\n",
    "##### We'll get a list of topics. For each topic, we'll get topic title, topic page URL and topic description."
   ]
  },
  {
   "cell_type": "code",
   "execution_count": null,
   "id": "c74e31ad",
   "metadata": {},
   "outputs": [],
   "source": [
    "!pip install requests --upgrade --quiet"
   ]
  },
  {
   "cell_type": "code",
   "execution_count": 2,
   "id": "7f18403c",
   "metadata": {},
   "outputs": [],
   "source": [
    "import requests"
   ]
  },
  {
   "cell_type": "code",
   "execution_count": 3,
   "id": "9bcfb8db",
   "metadata": {},
   "outputs": [],
   "source": [
    "topics_url = 'https://github.com/topics'"
   ]
  },
  {
   "cell_type": "code",
   "execution_count": 4,
   "id": "06b7f019",
   "metadata": {},
   "outputs": [],
   "source": [
    "response = requests.get(topics_url)"
   ]
  },
  {
   "cell_type": "code",
   "execution_count": 5,
   "id": "37fd50e1",
   "metadata": {},
   "outputs": [
    {
     "data": {
      "text/plain": [
       "200"
      ]
     },
     "execution_count": 5,
     "metadata": {},
     "output_type": "execute_result"
    }
   ],
   "source": [
    "response.status_code"
   ]
  },
  {
   "cell_type": "code",
   "execution_count": 6,
   "id": "587c6bfc",
   "metadata": {},
   "outputs": [],
   "source": [
    "page_contents = response.text"
   ]
  },
  {
   "cell_type": "markdown",
   "id": "be1cb778",
   "metadata": {},
   "source": [
    "### USE BEAUTIFULSOUP TO PARSE AND EXTRACT INFORMATION"
   ]
  },
  {
   "cell_type": "code",
   "execution_count": 7,
   "id": "cbaecd6d",
   "metadata": {},
   "outputs": [],
   "source": [
    "!pip install beautifulsoup4 --upgrade --quiet"
   ]
  },
  {
   "cell_type": "code",
   "execution_count": 8,
   "id": "66933f78",
   "metadata": {},
   "outputs": [],
   "source": [
    "from bs4 import BeautifulSoup"
   ]
  },
  {
   "cell_type": "code",
   "execution_count": 9,
   "id": "4654b085",
   "metadata": {},
   "outputs": [],
   "source": [
    "doc = BeautifulSoup(page_contents, 'html.parser')"
   ]
  },
  {
   "cell_type": "markdown",
   "id": "3a0e0af0",
   "metadata": {},
   "source": [
    "### EXTRACTING TOPIC TITLE TAGS"
   ]
  },
  {
   "cell_type": "code",
   "execution_count": 10,
   "id": "05ecb8f5",
   "metadata": {},
   "outputs": [],
   "source": [
    "selection_class = 'f3 lh-condensed mb-0 mt-1 Link--primary'"
   ]
  },
  {
   "cell_type": "code",
   "execution_count": 11,
   "id": "4aa7e414",
   "metadata": {},
   "outputs": [],
   "source": [
    "topic_title_tags = doc.find_all('p', {'class': selection_class})"
   ]
  },
  {
   "cell_type": "code",
   "execution_count": 12,
   "id": "3797a6b4",
   "metadata": {},
   "outputs": [
    {
     "data": {
      "text/plain": [
       "30"
      ]
     },
     "execution_count": 12,
     "metadata": {},
     "output_type": "execute_result"
    }
   ],
   "source": [
    "len(topic_title_tags)"
   ]
  },
  {
   "cell_type": "code",
   "execution_count": 13,
   "id": "e132ca3d",
   "metadata": {},
   "outputs": [
    {
     "data": {
      "text/plain": [
       "[<p class=\"f3 lh-condensed mb-0 mt-1 Link--primary\">3D</p>,\n",
       " <p class=\"f3 lh-condensed mb-0 mt-1 Link--primary\">Ajax</p>,\n",
       " <p class=\"f3 lh-condensed mb-0 mt-1 Link--primary\">Algorithm</p>,\n",
       " <p class=\"f3 lh-condensed mb-0 mt-1 Link--primary\">Amp</p>]"
      ]
     },
     "execution_count": 13,
     "metadata": {},
     "output_type": "execute_result"
    }
   ],
   "source": [
    "topic_title_tags[:4]"
   ]
  },
  {
   "cell_type": "markdown",
   "id": "86d243cc",
   "metadata": {},
   "source": [
    "### EXTRACTING TOPIC DESCRIPTION"
   ]
  },
  {
   "cell_type": "code",
   "execution_count": 14,
   "id": "d3801740",
   "metadata": {},
   "outputs": [],
   "source": [
    "description_selector = 'f5 color-fg-muted mb-0 mt-1'"
   ]
  },
  {
   "cell_type": "code",
   "execution_count": 42,
   "id": "34a17190",
   "metadata": {},
   "outputs": [],
   "source": [
    "topic_desc_tags = doc.find_all('p', {'class': description_selector})\n"
   ]
  },
  {
   "cell_type": "code",
   "execution_count": 46,
   "id": "58bbb9f3",
   "metadata": {},
   "outputs": [],
   "source": [
    "description_texts = [tag.text.strip() for tag in topic_desc_tags]"
   ]
  },
  {
   "cell_type": "code",
   "execution_count": 47,
   "id": "328fd154",
   "metadata": {},
   "outputs": [
    {
     "data": {
      "text/plain": [
       "30"
      ]
     },
     "execution_count": 47,
     "metadata": {},
     "output_type": "execute_result"
    }
   ],
   "source": [
    "len(description_texts)"
   ]
  },
  {
   "cell_type": "code",
   "execution_count": 48,
   "id": "8910c199",
   "metadata": {},
   "outputs": [
    {
     "data": {
      "text/plain": [
       "['3D refers to the use of three-dimensional graphics, modeling, and animation in various industries.',\n",
       " 'Ajax is a technique for creating interactive web applications.',\n",
       " 'Algorithms are self-contained sequences that carry out a variety of tasks.',\n",
       " 'Amp is a non-blocking concurrency library for PHP.']"
      ]
     },
     "execution_count": 48,
     "metadata": {},
     "output_type": "execute_result"
    }
   ],
   "source": [
    "description_texts[:4]"
   ]
  },
  {
   "cell_type": "markdown",
   "id": "1c4cb199",
   "metadata": {},
   "source": [
    "### EXTRACTING TOPIC LINKS\n",
    "##### We cannot directly fetch links. Links have some tags which are different rest are same. "
   ]
  },
  {
   "cell_type": "markdown",
   "id": "cce185dd",
   "metadata": {},
   "source": [
    "##### Here in this case topic title is different rest all are same i.e \"https://github.com/topics/\""
   ]
  },
  {
   "cell_type": "code",
   "execution_count": 23,
   "id": "d9bd4268",
   "metadata": {},
   "outputs": [
    {
     "name": "stdout",
     "output_type": "stream",
     "text": [
      "['3D', 'Ajax', 'Algorithm', 'Amp', 'Android', 'Angular', 'Ansible', 'API', 'Arduino', 'ASP.NET', 'Atom', 'Awesome Lists', 'Amazon Web Services', 'Azure', 'Babel', 'Bash', 'Bitcoin', 'Bootstrap', 'Bot', 'C', 'Chrome', 'Chrome extension', 'Command line interface', 'Clojure', 'Code quality', 'Code review', 'Compiler', 'Continuous integration', 'COVID-19', 'C++']\n"
     ]
    }
   ],
   "source": [
    "topic_titles = []\n",
    "\n",
    "for tag in topic_title_tags:\n",
    "    topic_titles.append(tag.text)\n",
    "    \n",
    "print(topic_titles)"
   ]
  },
  {
   "cell_type": "code",
   "execution_count": 31,
   "id": "5d67872f",
   "metadata": {},
   "outputs": [
    {
     "name": "stdout",
     "output_type": "stream",
     "text": [
      "['https://github.com/topics/3D', 'https://github.com/topics/Ajax', 'https://github.com/topics/Algorithm', 'https://github.com/topics/Amp', 'https://github.com/topics/Android', 'https://github.com/topics/Angular', 'https://github.com/topics/Ansible', 'https://github.com/topics/API', 'https://github.com/topics/Arduino', 'https://github.com/topics/ASP.NET', 'https://github.com/topics/Atom', 'https://github.com/topics/Awesome Lists', 'https://github.com/topics/Amazon Web Services', 'https://github.com/topics/Azure', 'https://github.com/topics/Babel', 'https://github.com/topics/Bash', 'https://github.com/topics/Bitcoin', 'https://github.com/topics/Bootstrap', 'https://github.com/topics/Bot', 'https://github.com/topics/C', 'https://github.com/topics/Chrome', 'https://github.com/topics/Chrome extension', 'https://github.com/topics/Command line interface', 'https://github.com/topics/Clojure', 'https://github.com/topics/Code quality', 'https://github.com/topics/Code review', 'https://github.com/topics/Compiler', 'https://github.com/topics/Continuous integration', 'https://github.com/topics/COVID-19', 'https://github.com/topics/C++']\n"
     ]
    }
   ],
   "source": [
    "topic_urls = []\n",
    "base_url = 'https://github.com/topics/'\n",
    "\n",
    "for title in topic_titles:\n",
    "    topic_urls.append(base_url + title)\n",
    "\n",
    "print(topic_urls)"
   ]
  },
  {
   "cell_type": "markdown",
   "id": "dc6aabc1",
   "metadata": {},
   "source": [
    "### MAKING A DATAFRAME"
   ]
  },
  {
   "cell_type": "code",
   "execution_count": 32,
   "id": "e8bdb907",
   "metadata": {},
   "outputs": [],
   "source": [
    "!pip install pandas --quiet"
   ]
  },
  {
   "cell_type": "code",
   "execution_count": 33,
   "id": "f536d790",
   "metadata": {},
   "outputs": [],
   "source": [
    "import pandas as pd"
   ]
  },
  {
   "cell_type": "code",
   "execution_count": 49,
   "id": "190053a2",
   "metadata": {},
   "outputs": [],
   "source": [
    "topics_dictionary = {\n",
    "    'TITLE': topic_title_tags,\n",
    "    'DESCRIPTION': description_texts,\n",
    "    'URL': topic_urls\n",
    "}"
   ]
  },
  {
   "cell_type": "code",
   "execution_count": 50,
   "id": "bef72b66",
   "metadata": {},
   "outputs": [],
   "source": [
    "topics_df = pd.DataFrame(topics_dictionary)"
   ]
  },
  {
   "cell_type": "code",
   "execution_count": 51,
   "id": "9f0b410d",
   "metadata": {},
   "outputs": [
    {
     "data": {
      "text/html": [
       "<div>\n",
       "<style scoped>\n",
       "    .dataframe tbody tr th:only-of-type {\n",
       "        vertical-align: middle;\n",
       "    }\n",
       "\n",
       "    .dataframe tbody tr th {\n",
       "        vertical-align: top;\n",
       "    }\n",
       "\n",
       "    .dataframe thead th {\n",
       "        text-align: right;\n",
       "    }\n",
       "</style>\n",
       "<table border=\"1\" class=\"dataframe\">\n",
       "  <thead>\n",
       "    <tr style=\"text-align: right;\">\n",
       "      <th></th>\n",
       "      <th>TITLE</th>\n",
       "      <th>DESCRIPTION</th>\n",
       "      <th>URL</th>\n",
       "    </tr>\n",
       "  </thead>\n",
       "  <tbody>\n",
       "    <tr>\n",
       "      <th>0</th>\n",
       "      <td>[3D]</td>\n",
       "      <td>3D refers to the use of three-dimensional grap...</td>\n",
       "      <td>https://github.com/topics/3D</td>\n",
       "    </tr>\n",
       "    <tr>\n",
       "      <th>1</th>\n",
       "      <td>[Ajax]</td>\n",
       "      <td>Ajax is a technique for creating interactive w...</td>\n",
       "      <td>https://github.com/topics/Ajax</td>\n",
       "    </tr>\n",
       "    <tr>\n",
       "      <th>2</th>\n",
       "      <td>[Algorithm]</td>\n",
       "      <td>Algorithms are self-contained sequences that c...</td>\n",
       "      <td>https://github.com/topics/Algorithm</td>\n",
       "    </tr>\n",
       "    <tr>\n",
       "      <th>3</th>\n",
       "      <td>[Amp]</td>\n",
       "      <td>Amp is a non-blocking concurrency library for ...</td>\n",
       "      <td>https://github.com/topics/Amp</td>\n",
       "    </tr>\n",
       "    <tr>\n",
       "      <th>4</th>\n",
       "      <td>[Android]</td>\n",
       "      <td>Android is an operating system built by Google...</td>\n",
       "      <td>https://github.com/topics/Android</td>\n",
       "    </tr>\n",
       "    <tr>\n",
       "      <th>5</th>\n",
       "      <td>[Angular]</td>\n",
       "      <td>Angular is an open source web application plat...</td>\n",
       "      <td>https://github.com/topics/Angular</td>\n",
       "    </tr>\n",
       "    <tr>\n",
       "      <th>6</th>\n",
       "      <td>[Ansible]</td>\n",
       "      <td>Ansible is a simple and powerful automation en...</td>\n",
       "      <td>https://github.com/topics/Ansible</td>\n",
       "    </tr>\n",
       "    <tr>\n",
       "      <th>7</th>\n",
       "      <td>[API]</td>\n",
       "      <td>An API (Application Programming Interface) is ...</td>\n",
       "      <td>https://github.com/topics/API</td>\n",
       "    </tr>\n",
       "    <tr>\n",
       "      <th>8</th>\n",
       "      <td>[Arduino]</td>\n",
       "      <td>Arduino is an open source platform for buildin...</td>\n",
       "      <td>https://github.com/topics/Arduino</td>\n",
       "    </tr>\n",
       "    <tr>\n",
       "      <th>9</th>\n",
       "      <td>[ASP.NET]</td>\n",
       "      <td>ASP.NET is a web framework for building modern...</td>\n",
       "      <td>https://github.com/topics/ASP.NET</td>\n",
       "    </tr>\n",
       "    <tr>\n",
       "      <th>10</th>\n",
       "      <td>[Atom]</td>\n",
       "      <td>Atom is a open source text editor built with w...</td>\n",
       "      <td>https://github.com/topics/Atom</td>\n",
       "    </tr>\n",
       "    <tr>\n",
       "      <th>11</th>\n",
       "      <td>[Awesome Lists]</td>\n",
       "      <td>An awesome list is a list of awesome things cu...</td>\n",
       "      <td>https://github.com/topics/Awesome Lists</td>\n",
       "    </tr>\n",
       "    <tr>\n",
       "      <th>12</th>\n",
       "      <td>[Amazon Web Services]</td>\n",
       "      <td>Amazon Web Services provides on-demand cloud c...</td>\n",
       "      <td>https://github.com/topics/Amazon Web Services</td>\n",
       "    </tr>\n",
       "    <tr>\n",
       "      <th>13</th>\n",
       "      <td>[Azure]</td>\n",
       "      <td>Azure is a cloud computing service created by ...</td>\n",
       "      <td>https://github.com/topics/Azure</td>\n",
       "    </tr>\n",
       "    <tr>\n",
       "      <th>14</th>\n",
       "      <td>[Babel]</td>\n",
       "      <td>Babel is a compiler for writing next generatio...</td>\n",
       "      <td>https://github.com/topics/Babel</td>\n",
       "    </tr>\n",
       "    <tr>\n",
       "      <th>15</th>\n",
       "      <td>[Bash]</td>\n",
       "      <td>Bash is a shell and command language interpret...</td>\n",
       "      <td>https://github.com/topics/Bash</td>\n",
       "    </tr>\n",
       "    <tr>\n",
       "      <th>16</th>\n",
       "      <td>[Bitcoin]</td>\n",
       "      <td>Bitcoin is a cryptocurrency developed by Satos...</td>\n",
       "      <td>https://github.com/topics/Bitcoin</td>\n",
       "    </tr>\n",
       "    <tr>\n",
       "      <th>17</th>\n",
       "      <td>[Bootstrap]</td>\n",
       "      <td>Bootstrap is an HTML, CSS, and JavaScript fram...</td>\n",
       "      <td>https://github.com/topics/Bootstrap</td>\n",
       "    </tr>\n",
       "    <tr>\n",
       "      <th>18</th>\n",
       "      <td>[Bot]</td>\n",
       "      <td>A bot is an application that runs automated ta...</td>\n",
       "      <td>https://github.com/topics/Bot</td>\n",
       "    </tr>\n",
       "    <tr>\n",
       "      <th>19</th>\n",
       "      <td>[C]</td>\n",
       "      <td>C is a general purpose programming language th...</td>\n",
       "      <td>https://github.com/topics/C</td>\n",
       "    </tr>\n",
       "    <tr>\n",
       "      <th>20</th>\n",
       "      <td>[Chrome]</td>\n",
       "      <td>Chrome is a web browser from the tech company ...</td>\n",
       "      <td>https://github.com/topics/Chrome</td>\n",
       "    </tr>\n",
       "    <tr>\n",
       "      <th>21</th>\n",
       "      <td>[Chrome extension]</td>\n",
       "      <td>Chrome extensions enable users to customize th...</td>\n",
       "      <td>https://github.com/topics/Chrome extension</td>\n",
       "    </tr>\n",
       "    <tr>\n",
       "      <th>22</th>\n",
       "      <td>[Command line interface]</td>\n",
       "      <td>A CLI, or command-line interface, is a console...</td>\n",
       "      <td>https://github.com/topics/Command line interface</td>\n",
       "    </tr>\n",
       "    <tr>\n",
       "      <th>23</th>\n",
       "      <td>[Clojure]</td>\n",
       "      <td>Clojure is a dynamic, general-purpose programm...</td>\n",
       "      <td>https://github.com/topics/Clojure</td>\n",
       "    </tr>\n",
       "    <tr>\n",
       "      <th>24</th>\n",
       "      <td>[Code quality]</td>\n",
       "      <td>Automate your code review with style, quality,...</td>\n",
       "      <td>https://github.com/topics/Code quality</td>\n",
       "    </tr>\n",
       "    <tr>\n",
       "      <th>25</th>\n",
       "      <td>[Code review]</td>\n",
       "      <td>Ensure your code meets quality standards and s...</td>\n",
       "      <td>https://github.com/topics/Code review</td>\n",
       "    </tr>\n",
       "    <tr>\n",
       "      <th>26</th>\n",
       "      <td>[Compiler]</td>\n",
       "      <td>Compilers are software that translate higher-l...</td>\n",
       "      <td>https://github.com/topics/Compiler</td>\n",
       "    </tr>\n",
       "    <tr>\n",
       "      <th>27</th>\n",
       "      <td>[Continuous integration]</td>\n",
       "      <td>Automatically build and test your code as you ...</td>\n",
       "      <td>https://github.com/topics/Continuous integration</td>\n",
       "    </tr>\n",
       "    <tr>\n",
       "      <th>28</th>\n",
       "      <td>[COVID-19]</td>\n",
       "      <td>The coronavirus disease 2019 (COVID-19) is an ...</td>\n",
       "      <td>https://github.com/topics/COVID-19</td>\n",
       "    </tr>\n",
       "    <tr>\n",
       "      <th>29</th>\n",
       "      <td>[C++]</td>\n",
       "      <td>C++ is a general purpose and object-oriented p...</td>\n",
       "      <td>https://github.com/topics/C++</td>\n",
       "    </tr>\n",
       "  </tbody>\n",
       "</table>\n",
       "</div>"
      ],
      "text/plain": [
       "                       TITLE  \\\n",
       "0                       [3D]   \n",
       "1                     [Ajax]   \n",
       "2                [Algorithm]   \n",
       "3                      [Amp]   \n",
       "4                  [Android]   \n",
       "5                  [Angular]   \n",
       "6                  [Ansible]   \n",
       "7                      [API]   \n",
       "8                  [Arduino]   \n",
       "9                  [ASP.NET]   \n",
       "10                    [Atom]   \n",
       "11           [Awesome Lists]   \n",
       "12     [Amazon Web Services]   \n",
       "13                   [Azure]   \n",
       "14                   [Babel]   \n",
       "15                    [Bash]   \n",
       "16                 [Bitcoin]   \n",
       "17               [Bootstrap]   \n",
       "18                     [Bot]   \n",
       "19                       [C]   \n",
       "20                  [Chrome]   \n",
       "21        [Chrome extension]   \n",
       "22  [Command line interface]   \n",
       "23                 [Clojure]   \n",
       "24            [Code quality]   \n",
       "25             [Code review]   \n",
       "26                [Compiler]   \n",
       "27  [Continuous integration]   \n",
       "28                [COVID-19]   \n",
       "29                     [C++]   \n",
       "\n",
       "                                          DESCRIPTION  \\\n",
       "0   3D refers to the use of three-dimensional grap...   \n",
       "1   Ajax is a technique for creating interactive w...   \n",
       "2   Algorithms are self-contained sequences that c...   \n",
       "3   Amp is a non-blocking concurrency library for ...   \n",
       "4   Android is an operating system built by Google...   \n",
       "5   Angular is an open source web application plat...   \n",
       "6   Ansible is a simple and powerful automation en...   \n",
       "7   An API (Application Programming Interface) is ...   \n",
       "8   Arduino is an open source platform for buildin...   \n",
       "9   ASP.NET is a web framework for building modern...   \n",
       "10  Atom is a open source text editor built with w...   \n",
       "11  An awesome list is a list of awesome things cu...   \n",
       "12  Amazon Web Services provides on-demand cloud c...   \n",
       "13  Azure is a cloud computing service created by ...   \n",
       "14  Babel is a compiler for writing next generatio...   \n",
       "15  Bash is a shell and command language interpret...   \n",
       "16  Bitcoin is a cryptocurrency developed by Satos...   \n",
       "17  Bootstrap is an HTML, CSS, and JavaScript fram...   \n",
       "18  A bot is an application that runs automated ta...   \n",
       "19  C is a general purpose programming language th...   \n",
       "20  Chrome is a web browser from the tech company ...   \n",
       "21  Chrome extensions enable users to customize th...   \n",
       "22  A CLI, or command-line interface, is a console...   \n",
       "23  Clojure is a dynamic, general-purpose programm...   \n",
       "24  Automate your code review with style, quality,...   \n",
       "25  Ensure your code meets quality standards and s...   \n",
       "26  Compilers are software that translate higher-l...   \n",
       "27  Automatically build and test your code as you ...   \n",
       "28  The coronavirus disease 2019 (COVID-19) is an ...   \n",
       "29  C++ is a general purpose and object-oriented p...   \n",
       "\n",
       "                                                 URL  \n",
       "0                       https://github.com/topics/3D  \n",
       "1                     https://github.com/topics/Ajax  \n",
       "2                https://github.com/topics/Algorithm  \n",
       "3                      https://github.com/topics/Amp  \n",
       "4                  https://github.com/topics/Android  \n",
       "5                  https://github.com/topics/Angular  \n",
       "6                  https://github.com/topics/Ansible  \n",
       "7                      https://github.com/topics/API  \n",
       "8                  https://github.com/topics/Arduino  \n",
       "9                  https://github.com/topics/ASP.NET  \n",
       "10                    https://github.com/topics/Atom  \n",
       "11           https://github.com/topics/Awesome Lists  \n",
       "12     https://github.com/topics/Amazon Web Services  \n",
       "13                   https://github.com/topics/Azure  \n",
       "14                   https://github.com/topics/Babel  \n",
       "15                    https://github.com/topics/Bash  \n",
       "16                 https://github.com/topics/Bitcoin  \n",
       "17               https://github.com/topics/Bootstrap  \n",
       "18                     https://github.com/topics/Bot  \n",
       "19                       https://github.com/topics/C  \n",
       "20                  https://github.com/topics/Chrome  \n",
       "21        https://github.com/topics/Chrome extension  \n",
       "22  https://github.com/topics/Command line interface  \n",
       "23                 https://github.com/topics/Clojure  \n",
       "24            https://github.com/topics/Code quality  \n",
       "25             https://github.com/topics/Code review  \n",
       "26                https://github.com/topics/Compiler  \n",
       "27  https://github.com/topics/Continuous integration  \n",
       "28                https://github.com/topics/COVID-19  \n",
       "29                     https://github.com/topics/C++  "
      ]
     },
     "execution_count": 51,
     "metadata": {},
     "output_type": "execute_result"
    }
   ],
   "source": [
    "topics_df"
   ]
  },
  {
   "cell_type": "code",
   "execution_count": 54,
   "id": "d76f8329",
   "metadata": {},
   "outputs": [],
   "source": [
    "topics_df.to_csv('topics.csv',index= None)"
   ]
  }
 ],
 "metadata": {
  "kernelspec": {
   "display_name": "Python 3 (ipykernel)",
   "language": "python",
   "name": "python3"
  },
  "language_info": {
   "codemirror_mode": {
    "name": "ipython",
    "version": 3
   },
   "file_extension": ".py",
   "mimetype": "text/x-python",
   "name": "python",
   "nbconvert_exporter": "python",
   "pygments_lexer": "ipython3",
   "version": "3.11.4"
  }
 },
 "nbformat": 4,
 "nbformat_minor": 5
}
